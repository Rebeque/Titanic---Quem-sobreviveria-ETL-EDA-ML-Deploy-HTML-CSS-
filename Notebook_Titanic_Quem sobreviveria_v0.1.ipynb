{
 "cells": [
  {
   "cell_type": "markdown",
   "id": "eeac56d8",
   "metadata": {},
   "source": [
    "# Análise Exploratória e Preditiva + Deploy Web:\n",
    "\n",
    "# Titanic - Quem sobreviveria?\n",
    "\n",
    "***"
   ]
  },
  {
   "cell_type": "markdown",
   "id": "be7ef5ac",
   "metadata": {},
   "source": [
    "Análise realizada por ***Vinícius Nunes Rebeque*** em Setembro/2022\n",
    "\n",
    "Visite meu LinkedIn: https://www.linkedin.com/in/vrebeque/\n",
    "\n",
    "Explore meu GitHub: https://www.github.com/Rebeque\n",
    "\n",
    "Fonte dos dados: https://www.kaggle.com/competitions/titanic/data\n",
    "* * *"
   ]
  },
  {
   "cell_type": "markdown",
   "id": "784c25cb",
   "metadata": {},
   "source": [
    "**1. INTRODUÇÃO:**\n",
    "\n",
    "Esse dataset compreende os **dados históricos** do terrível acidente do \"inafundável\" RMS Titanic que ironicamente **afundou em 1912**. Infelizmente não haviam botes salva vidas suficientes para todos dentro do navio, o que resultou na **morte de 1502 dos 2224** totais entre passageiros e tripulação.\n",
    "\n",
    "Enquanto houveram **elementos de sorte** que determinaram quem sobreviveu ou não ao acidente, **aparentemente** alguns grupos de pessoas tiveram **maiores chances de sobreviver**. Será que existe **alguma relação ou forma de predizer** quem sobreviveria e quais seriam os fatores determinantes para esse feito?\n",
    "\n",
    "***Vamos analisar!***\n",
    "***"
   ]
  },
  {
   "cell_type": "markdown",
   "id": "afa35d5c",
   "metadata": {},
   "source": [
    "**2. OBJETIVOS:**\n",
    "* Praticar conceitos de manipulação de dados;\n",
    "* Explorar os dados históricos do acidente;\n",
    "* Verificar se existe relação entre a sobrevivência ou não dos passageiros com base no que sabemos;\n",
    "* Criar um algoritmo de predição capaz de determinar a sobrevivência ou não de um indivíduo com base em atributos;\n",
    "* Desenvolver uma página web para o usuário final entrar com seus dados e descobrir se ele sobreviveria ou não (verifique meu GitHub).\n",
    "\n",
    "**Um breve comentário:** a idéia desse trabalho é **sedimentar os conhecimentos** que venho estudando em várias frentes e ainda por cima **testar minhas habilidades** em um ramo de conhecimento **que não é o meu principal** - HTML e CSS.\n",
    "\n",
    "Acredito que **todo conhecimento é útil** e quanto mais eu conseguir **\"linkar\" conhecimentos** diferentes mais soluções de mercado eu posso apresentar para meus clientes. Acredito que **trabalhar com tecnologia** não permite uma zona de conforto onde eu me especialize **apenas em um ponto**. A **contextualização dos conteúdos** é de vital importância para um bom profissional.\n",
    "\n",
    "***"
   ]
  },
  {
   "cell_type": "markdown",
   "id": "7ff6a5b6",
   "metadata": {},
   "source": [
    "**3. EXTRAÇÃO DOS DADOS:**"
   ]
  },
  {
   "cell_type": "code",
   "execution_count": 1,
   "id": "79ab4322",
   "metadata": {},
   "outputs": [],
   "source": [
    "# Importação e alias das bibliotecas Python necessárias\n",
    "\n",
    "import pandas as pd\n",
    "import matplotlib.pyplot as plt\n",
    "import pandas, numpy as np\n",
    "import seaborn as sns\n",
    "sns.set(rc={'figure.figsize':(14,6)})\n",
    "import zipfile"
   ]
  },
  {
   "cell_type": "markdown",
   "id": "969dde3c",
   "metadata": {},
   "source": [
    "A Kaggle disponibilizou esse dataset já em divisão de treino e teste porque ele foi criado justamente para fins acadêmicos de aprendizado de máquina."
   ]
  },
  {
   "cell_type": "code",
   "execution_count": 26,
   "id": "82c29350",
   "metadata": {},
   "outputs": [],
   "source": [
    "# Carrega o Dataset utilizando o pacote Pandas no alias 'df'\n",
    "df_treino = pd.read_csv('data/train.csv')\n",
    "df_teste = pd.read_csv('data/test.csv')"
   ]
  },
  {
   "cell_type": "markdown",
   "id": "cbd0d21e",
   "metadata": {},
   "source": [
    "**4. EXPLORAÇÃO:**\n",
    "\n",
    "Verificando os dados sobre o dataset"
   ]
  },
  {
   "cell_type": "code",
   "execution_count": 31,
   "id": "4e0b494c",
   "metadata": {},
   "outputs": [
    {
     "name": "stdout",
     "output_type": "stream",
     "text": [
      "(891, 12)\n",
      "\n",
      "\n",
      "(418, 11)\n",
      "\n",
      "\n",
      "Index(['PassengerId', 'Survived', 'Pclass', 'Name', 'Sex', 'Age', 'SibSp',\n",
      "       'Parch', 'Ticket', 'Fare', 'Cabin', 'Embarked'],\n",
      "      dtype='object')\n",
      "\n",
      "\n",
      "Index(['PassengerId', 'Pclass', 'Name', 'Sex', 'Age', 'SibSp', 'Parch',\n",
      "       'Ticket', 'Fare', 'Cabin', 'Embarked'],\n",
      "      dtype='object')\n"
     ]
    }
   ],
   "source": [
    "print(df_treino.shape)\n",
    "print('\\n')\n",
    "print(df_teste.shape)\n",
    "print('\\n')\n",
    "print(df_treino.columns)\n",
    "print('\\n')\n",
    "print(df_teste.columns)"
   ]
  },
  {
   "cell_type": "markdown",
   "id": "c6a4f601",
   "metadata": {},
   "source": [
    "Temos 891 registros para treino e 418 para teste."
   ]
  },
  {
   "cell_type": "code",
   "execution_count": 32,
   "id": "5f44734d",
   "metadata": {},
   "outputs": [
    {
     "data": {
      "text/html": [
       "<div>\n",
       "<style scoped>\n",
       "    .dataframe tbody tr th:only-of-type {\n",
       "        vertical-align: middle;\n",
       "    }\n",
       "\n",
       "    .dataframe tbody tr th {\n",
       "        vertical-align: top;\n",
       "    }\n",
       "\n",
       "    .dataframe thead th {\n",
       "        text-align: right;\n",
       "    }\n",
       "</style>\n",
       "<table border=\"1\" class=\"dataframe\">\n",
       "  <thead>\n",
       "    <tr style=\"text-align: right;\">\n",
       "      <th></th>\n",
       "      <th>PassengerId</th>\n",
       "      <th>Survived</th>\n",
       "      <th>Pclass</th>\n",
       "      <th>Name</th>\n",
       "      <th>Sex</th>\n",
       "      <th>Age</th>\n",
       "      <th>SibSp</th>\n",
       "      <th>Parch</th>\n",
       "      <th>Ticket</th>\n",
       "      <th>Fare</th>\n",
       "      <th>Cabin</th>\n",
       "      <th>Embarked</th>\n",
       "    </tr>\n",
       "  </thead>\n",
       "  <tbody>\n",
       "    <tr>\n",
       "      <th>0</th>\n",
       "      <td>1</td>\n",
       "      <td>0</td>\n",
       "      <td>3</td>\n",
       "      <td>Braund, Mr. Owen Harris</td>\n",
       "      <td>male</td>\n",
       "      <td>22.0</td>\n",
       "      <td>1</td>\n",
       "      <td>0</td>\n",
       "      <td>A/5 21171</td>\n",
       "      <td>7.2500</td>\n",
       "      <td>NaN</td>\n",
       "      <td>S</td>\n",
       "    </tr>\n",
       "    <tr>\n",
       "      <th>1</th>\n",
       "      <td>2</td>\n",
       "      <td>1</td>\n",
       "      <td>1</td>\n",
       "      <td>Cumings, Mrs. John Bradley (Florence Briggs Th...</td>\n",
       "      <td>female</td>\n",
       "      <td>38.0</td>\n",
       "      <td>1</td>\n",
       "      <td>0</td>\n",
       "      <td>PC 17599</td>\n",
       "      <td>71.2833</td>\n",
       "      <td>C85</td>\n",
       "      <td>C</td>\n",
       "    </tr>\n",
       "    <tr>\n",
       "      <th>2</th>\n",
       "      <td>3</td>\n",
       "      <td>1</td>\n",
       "      <td>3</td>\n",
       "      <td>Heikkinen, Miss. Laina</td>\n",
       "      <td>female</td>\n",
       "      <td>26.0</td>\n",
       "      <td>0</td>\n",
       "      <td>0</td>\n",
       "      <td>STON/O2. 3101282</td>\n",
       "      <td>7.9250</td>\n",
       "      <td>NaN</td>\n",
       "      <td>S</td>\n",
       "    </tr>\n",
       "  </tbody>\n",
       "</table>\n",
       "</div>"
      ],
      "text/plain": [
       "   PassengerId  Survived  Pclass  \\\n",
       "0            1         0       3   \n",
       "1            2         1       1   \n",
       "2            3         1       3   \n",
       "\n",
       "                                                Name     Sex   Age  SibSp  \\\n",
       "0                            Braund, Mr. Owen Harris    male  22.0      1   \n",
       "1  Cumings, Mrs. John Bradley (Florence Briggs Th...  female  38.0      1   \n",
       "2                             Heikkinen, Miss. Laina  female  26.0      0   \n",
       "\n",
       "   Parch            Ticket     Fare Cabin Embarked  \n",
       "0      0         A/5 21171   7.2500   NaN        S  \n",
       "1      0          PC 17599  71.2833   C85        C  \n",
       "2      0  STON/O2. 3101282   7.9250   NaN        S  "
      ]
     },
     "execution_count": 32,
     "metadata": {},
     "output_type": "execute_result"
    }
   ],
   "source": [
    "# Primeiras linhas\n",
    "df_treino.head(3)"
   ]
  },
  {
   "cell_type": "code",
   "execution_count": 33,
   "id": "31bd601b",
   "metadata": {},
   "outputs": [
    {
     "data": {
      "text/html": [
       "<div>\n",
       "<style scoped>\n",
       "    .dataframe tbody tr th:only-of-type {\n",
       "        vertical-align: middle;\n",
       "    }\n",
       "\n",
       "    .dataframe tbody tr th {\n",
       "        vertical-align: top;\n",
       "    }\n",
       "\n",
       "    .dataframe thead th {\n",
       "        text-align: right;\n",
       "    }\n",
       "</style>\n",
       "<table border=\"1\" class=\"dataframe\">\n",
       "  <thead>\n",
       "    <tr style=\"text-align: right;\">\n",
       "      <th></th>\n",
       "      <th>PassengerId</th>\n",
       "      <th>Survived</th>\n",
       "      <th>Pclass</th>\n",
       "      <th>Name</th>\n",
       "      <th>Sex</th>\n",
       "      <th>Age</th>\n",
       "      <th>SibSp</th>\n",
       "      <th>Parch</th>\n",
       "      <th>Ticket</th>\n",
       "      <th>Fare</th>\n",
       "      <th>Cabin</th>\n",
       "      <th>Embarked</th>\n",
       "    </tr>\n",
       "  </thead>\n",
       "  <tbody>\n",
       "    <tr>\n",
       "      <th>888</th>\n",
       "      <td>889</td>\n",
       "      <td>0</td>\n",
       "      <td>3</td>\n",
       "      <td>Johnston, Miss. Catherine Helen \"Carrie\"</td>\n",
       "      <td>female</td>\n",
       "      <td>NaN</td>\n",
       "      <td>1</td>\n",
       "      <td>2</td>\n",
       "      <td>W./C. 6607</td>\n",
       "      <td>23.45</td>\n",
       "      <td>NaN</td>\n",
       "      <td>S</td>\n",
       "    </tr>\n",
       "    <tr>\n",
       "      <th>889</th>\n",
       "      <td>890</td>\n",
       "      <td>1</td>\n",
       "      <td>1</td>\n",
       "      <td>Behr, Mr. Karl Howell</td>\n",
       "      <td>male</td>\n",
       "      <td>26.0</td>\n",
       "      <td>0</td>\n",
       "      <td>0</td>\n",
       "      <td>111369</td>\n",
       "      <td>30.00</td>\n",
       "      <td>C148</td>\n",
       "      <td>C</td>\n",
       "    </tr>\n",
       "    <tr>\n",
       "      <th>890</th>\n",
       "      <td>891</td>\n",
       "      <td>0</td>\n",
       "      <td>3</td>\n",
       "      <td>Dooley, Mr. Patrick</td>\n",
       "      <td>male</td>\n",
       "      <td>32.0</td>\n",
       "      <td>0</td>\n",
       "      <td>0</td>\n",
       "      <td>370376</td>\n",
       "      <td>7.75</td>\n",
       "      <td>NaN</td>\n",
       "      <td>Q</td>\n",
       "    </tr>\n",
       "  </tbody>\n",
       "</table>\n",
       "</div>"
      ],
      "text/plain": [
       "     PassengerId  Survived  Pclass                                      Name  \\\n",
       "888          889         0       3  Johnston, Miss. Catherine Helen \"Carrie\"   \n",
       "889          890         1       1                     Behr, Mr. Karl Howell   \n",
       "890          891         0       3                       Dooley, Mr. Patrick   \n",
       "\n",
       "        Sex   Age  SibSp  Parch      Ticket   Fare Cabin Embarked  \n",
       "888  female   NaN      1      2  W./C. 6607  23.45   NaN        S  \n",
       "889    male  26.0      0      0      111369  30.00  C148        C  \n",
       "890    male  32.0      0      0      370376   7.75   NaN        Q  "
      ]
     },
     "execution_count": 33,
     "metadata": {},
     "output_type": "execute_result"
    }
   ],
   "source": [
    "# Últimas linhas\n",
    "df_treino.tail(3)"
   ]
  },
  {
   "cell_type": "code",
   "execution_count": null,
   "id": "291c3e73",
   "metadata": {},
   "outputs": [],
   "source": []
  }
 ],
 "metadata": {
  "kernelspec": {
   "display_name": "Python 3 (ipykernel)",
   "language": "python",
   "name": "python3"
  },
  "language_info": {
   "codemirror_mode": {
    "name": "ipython",
    "version": 3
   },
   "file_extension": ".py",
   "mimetype": "text/x-python",
   "name": "python",
   "nbconvert_exporter": "python",
   "pygments_lexer": "ipython3",
   "version": "3.9.12"
  }
 },
 "nbformat": 4,
 "nbformat_minor": 5
}
